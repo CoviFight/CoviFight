{
 "cells": [
  {
   "cell_type": "code",
   "execution_count": 2,
   "metadata": {},
   "outputs": [
    {
     "name": "stdout",
     "output_type": "stream",
     "text": [
      "Collecting pycryptodomex\n",
      "  Using cached pycryptodomex-3.9.7-cp37-cp37m-win_amd64.whl (14.1 MB)\n",
      "Installing collected packages: pycryptodomex\n",
      "Successfully installed pycryptodomex-3.9.7\n"
     ]
    }
   ],
   "source": [
    "#!pip install pycryptodome\n",
    "#!pip install pycryptodomex"
   ]
  },
  {
   "cell_type": "code",
   "execution_count": 3,
   "metadata": {},
   "outputs": [],
   "source": [
    "from Crypto.PublicKey import RSA\n",
    "from Cryptodome.Cipher import PKCS1_OAEP\n",
    "from Cryptodome.Hash import SHA512 #,SHA256, SHA1\n",
    "from Cryptodome.Signature import pss\n",
    "\n",
    "import firebase_admin\n",
    "from firebase_admin import credentials\n",
    "from firebase_admin import firestore\n",
    "\n",
    "import base64"
   ]
  },
  {
   "cell_type": "code",
   "execution_count": 19,
   "metadata": {},
   "outputs": [
    {
     "ename": "ValueError",
     "evalue": "The default Firebase app already exists. This means you called initialize_app() more than once without providing an app name as the second argument. In most cases you only need to call initialize_app() once. But if you do want to initialize multiple apps, pass a second argument to initialize_app() to give each app a unique name.",
     "output_type": "error",
     "traceback": [
      "\u001b[1;31m---------------------------------------------------------------------------\u001b[0m",
      "\u001b[1;31mValueError\u001b[0m                                Traceback (most recent call last)",
      "\u001b[1;32m<ipython-input-19-6c92ed5a48ce>\u001b[0m in \u001b[0;36m<module>\u001b[1;34m\u001b[0m\n\u001b[0;32m      1\u001b[0m \u001b[0mcred\u001b[0m \u001b[1;33m=\u001b[0m \u001b[0mcredentials\u001b[0m\u001b[1;33m.\u001b[0m\u001b[0mCertificate\u001b[0m\u001b[1;33m(\u001b[0m\u001b[1;34m\"./covidhack-firebase-adminsdk-u4ged-d200bc2982.json\"\u001b[0m\u001b[1;33m)\u001b[0m\u001b[1;33m\u001b[0m\u001b[1;33m\u001b[0m\u001b[0m\n\u001b[1;32m----> 2\u001b[1;33m \u001b[0mfirebase_admin\u001b[0m\u001b[1;33m.\u001b[0m\u001b[0minitialize_app\u001b[0m\u001b[1;33m(\u001b[0m\u001b[0mcred\u001b[0m\u001b[1;33m)\u001b[0m\u001b[1;33m\u001b[0m\u001b[1;33m\u001b[0m\u001b[0m\n\u001b[0m\u001b[0;32m      3\u001b[0m \u001b[1;33m\u001b[0m\u001b[0m\n\u001b[0;32m      4\u001b[0m \u001b[0mdb\u001b[0m \u001b[1;33m=\u001b[0m \u001b[0mfirestore\u001b[0m\u001b[1;33m.\u001b[0m\u001b[0mclient\u001b[0m\u001b[1;33m(\u001b[0m\u001b[1;33m)\u001b[0m\u001b[1;33m\u001b[0m\u001b[1;33m\u001b[0m\u001b[0m\n",
      "\u001b[1;32mc:\\users\\sidha\\.conda\\envs\\database\\lib\\site-packages\\firebase_admin\\__init__.py\u001b[0m in \u001b[0;36minitialize_app\u001b[1;34m(credential, options, name)\u001b[0m\n\u001b[0;32m     70\u001b[0m     \u001b[1;32mif\u001b[0m \u001b[0mname\u001b[0m \u001b[1;33m==\u001b[0m \u001b[0m_DEFAULT_APP_NAME\u001b[0m\u001b[1;33m:\u001b[0m\u001b[1;33m\u001b[0m\u001b[1;33m\u001b[0m\u001b[0m\n\u001b[0;32m     71\u001b[0m         raise ValueError((\n\u001b[1;32m---> 72\u001b[1;33m             \u001b[1;34m'The default Firebase app already exists. This means you called '\u001b[0m\u001b[1;33m\u001b[0m\u001b[1;33m\u001b[0m\u001b[0m\n\u001b[0m\u001b[0;32m     73\u001b[0m             \u001b[1;34m'initialize_app() more than once without providing an app name as '\u001b[0m\u001b[1;33m\u001b[0m\u001b[1;33m\u001b[0m\u001b[0m\n\u001b[0;32m     74\u001b[0m             \u001b[1;34m'the second argument. In most cases you only need to call '\u001b[0m\u001b[1;33m\u001b[0m\u001b[1;33m\u001b[0m\u001b[0m\n",
      "\u001b[1;31mValueError\u001b[0m: The default Firebase app already exists. This means you called initialize_app() more than once without providing an app name as the second argument. In most cases you only need to call initialize_app() once. But if you do want to initialize multiple apps, pass a second argument to initialize_app() to give each app a unique name."
     ]
    }
   ],
   "source": [
    "\n",
    "cred = credentials.Certificate(\"./covidhack-firebase-adminsdk-u4ged-d200bc2982.json\")\n",
    "firebase_admin.initialize_app(cred)\n",
    "\n",
    "db = firestore.client()"
   ]
  },
  {
   "cell_type": "code",
   "execution_count": 37,
   "metadata": {},
   "outputs": [],
   "source": [
    "\n",
    "\n",
    "def getdata(phnumber):\n",
    "    \n",
    "    \n",
    "    privatekey = db.collection(u'Profile').document(u''+\"+919958498955\").get().to_dict()['Private']\n",
    "    rsakey = RSA.importKey(base64.b64decode(privatekey))\n",
    "    #rsakey =  PKCS1_OAEP.new(rsakey, hashAlgo=SHA256, mgfunc=lambda x,y: pss.MGF1(x,y, SHA256))\n",
    "    rsakey = PKCS1_OAEP.new(rsakey, SHA512)\n",
    "    \n",
    "#     def decrypt(rsakey,loc)\n",
    "#         global rsakey\n",
    "#         b64_decoded_message = base64.b64decode(loc)\n",
    "#         decrypted = rsakey.decrypt(b64_decoded_message)\n",
    "#         return decrypted\n",
    "    \n",
    "    def decrypt_location(loc,rsakey):\n",
    "#         global rsakey\n",
    "        b64_decoded_message = base64.b64decode(loc)\n",
    "        decrypted = rsakey.decrypt(b64_decoded_message)\n",
    "        return decrypted\n",
    "#         #temorary\n",
    "#         #3decimal places taken\n",
    "#         lat=round(locx[0],3)\n",
    "#         long=round(locx[1],3)\n",
    "#         return(str(lat)+','+str(long))\n",
    "#         #temp ends\n",
    "#         #decrypt and send\n",
    "#         #return(list(map(float,loc.split(','))))\n",
    "    def rev_cipher(num):\n",
    "        #add code here\n",
    "        return num\n",
    "\n",
    "    users_ref = db.collection(u'Profile').document(u''+phnumber).collection('TimeStamps')\n",
    "    docs = users_ref.stream()\n",
    "    blth={}\n",
    "    loc={}\n",
    "    for doc in docs:\n",
    "        bdic=doc.to_dict()\n",
    "        time=bdic['TimeStamps']\n",
    "        if(bdic['Activity']==\"STILL\"):\n",
    "            loci=bdic['Location']\n",
    "#             print(loci)\n",
    "            loci=decrypt_location(loci,rsakey)\n",
    "            if loci in loc:\n",
    "                loc[loci] += 2\n",
    "            else:\n",
    "                loc[loci] = 2\n",
    "        if 'BluetoothName' in bdic:\n",
    "            for bl in bdic['BluetoothName']:\n",
    "                bl1=rev_cipher(bl)\n",
    "                if bl1 in blth:\n",
    "                    blth[bl1] += 2\n",
    "                else:\n",
    "                    blth[bl1] = 2\n",
    "    blth2={}\n",
    "    for i in blth:\n",
    "        #print(i)\n",
    "        number=db.collection(u'Identify').document(u''+i).get().to_dict()['Number']\n",
    "        blth2[number]=blth[i]\n",
    "        \n",
    "    return([blth2,loc])            \n",
    "    "
   ]
  },
  {
   "cell_type": "code",
   "execution_count": 38,
   "metadata": {},
   "outputs": [
    {
     "data": {
      "text/plain": [
       "[{'+919831586263': 26}, {b'28.389,77.055': 12, b'28.389,77.056': 16}]"
      ]
     },
     "execution_count": 38,
     "metadata": {},
     "output_type": "execute_result"
    }
   ],
   "source": [
    "getdata(phnumber=\"+919958498955\")"
   ]
  },
  {
   "cell_type": "code",
   "execution_count": null,
   "metadata": {},
   "outputs": [],
   "source": []
  }
 ],
 "metadata": {
  "kernelspec": {
   "display_name": "Python 3",
   "language": "python",
   "name": "python3"
  },
  "language_info": {
   "codemirror_mode": {
    "name": "ipython",
    "version": 3
   },
   "file_extension": ".py",
   "mimetype": "text/x-python",
   "name": "python",
   "nbconvert_exporter": "python",
   "pygments_lexer": "ipython3",
   "version": "3.7.7"
  }
 },
 "nbformat": 4,
 "nbformat_minor": 2
}
