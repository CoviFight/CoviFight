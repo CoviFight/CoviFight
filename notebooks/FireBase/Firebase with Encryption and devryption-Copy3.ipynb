{
 "cells": [
  {
   "cell_type": "code",
   "execution_count": 2,
   "metadata": {},
   "outputs": [
    {
     "name": "stdout",
     "output_type": "stream",
     "text": [
      "Collecting pycryptodomex\n",
      "  Using cached pycryptodomex-3.9.7-cp37-cp37m-win_amd64.whl (14.1 MB)\n",
      "Installing collected packages: pycryptodomex\n",
      "Successfully installed pycryptodomex-3.9.7\n"
     ]
    }
   ],
   "source": [
    "#!pip install pycryptodome\n",
    "#!pip install pycryptodomex"
   ]
  },
  {
   "cell_type": "code",
   "execution_count": 1,
   "metadata": {},
   "outputs": [],
   "source": [
    "from Crypto.PublicKey import RSA\n",
    "from Cryptodome.Cipher import PKCS1_OAEP\n",
    "from Cryptodome.Hash import SHA512 #,SHA256, SHA1\n",
    "from Cryptodome.Signature import pss\n",
    "\n",
    "import firebase_admin\n",
    "from firebase_admin import credentials\n",
    "from firebase_admin import firestore\n",
    "\n",
    "import pprint\n",
    "\n",
    "import base64"
   ]
  },
  {
   "cell_type": "code",
   "execution_count": 2,
   "metadata": {},
   "outputs": [],
   "source": [
    "\n",
    "cred = credentials.Certificate(\"./covidhack-firebase-adminsdk-u4ged-d200bc2982.json\")\n",
    "firebase_admin.initialize_app(cred)\n",
    "\n",
    "db = firestore.client()"
   ]
  },
  {
   "cell_type": "code",
   "execution_count": 29,
   "metadata": {},
   "outputs": [],
   "source": [
    "\n",
    "\n",
    "def getdata(phnumber,mark=False):\n",
    "    \n",
    "    \n",
    "    privatekey = db.collection(u'Profile').document(u''+phnumber).get().to_dict()['PrivateKey']\n",
    "    rsakey = RSA.importKey(base64.b64decode(privatekey))\n",
    "    #rsakey =  PKCS1_OAEP.new(rsakey, hashAlgo=SHA256, mgfunc=lambda x,y: pss.MGF1(x,y, SHA256))\n",
    "    rsakey = PKCS1_OAEP.new(rsakey, SHA512)\n",
    "    \n",
    "#     def decrypt(rsakey,loc)\n",
    "#         global rsakey\n",
    "#         b64_decoded_message = base64.b64decode(loc)\n",
    "#         decrypted = rsakey.decrypt(b64_decoded_message)\n",
    "#         return decrypted\n",
    "    \n",
    "    def decrypt_location(loc,rsakey):\n",
    "#         global rsakey\n",
    "        b64_decoded_message = base64.b64decode(loc)\n",
    "        decrypted = rsakey.decrypt(b64_decoded_message)\n",
    "        return decrypted\n",
    "#         #temorary\n",
    "#         #3decimal places taken\n",
    "#         lat=round(locx[0],3)\n",
    "#         long=round(locx[1],3)\n",
    "#         return(str(lat)+','+str(long))\n",
    "#         #temp ends\n",
    "#         #decrypt and send\n",
    "#         #return(list(map(float,loc.split(','))))\n",
    "    def rev_cipher(num):\n",
    "        #add code here\n",
    "        return num\n",
    "\n",
    "    users_ref = db.collection(u'Profile').document(u''+phnumber).collection('TimeStamps')\n",
    "    docs = users_ref.stream()\n",
    "    blth={}\n",
    "    loc={}\n",
    "    for doc in docs:\n",
    "        bdic=doc.to_dict()\n",
    "        time=bdic['TimeStamps']\n",
    "        if(bdic['Activity']==\"STILL\"):\n",
    "            loci=bdic['Location']\n",
    "#             print(loci)\n",
    "            loci=decrypt_location(loci,rsakey)\n",
    "            if loci in loc:\n",
    "                loc[loci][\"time\"] += 2\n",
    "                loc[loci][\"last\"] =time\n",
    "            else:\n",
    "                loc[loci] = {\"time\":2,\"last\":time}\n",
    "                \n",
    "        if 'BluetoothName' in bdic:\n",
    "            for bl in bdic['BluetoothName']:\n",
    "                bl1=rev_cipher(bl)\n",
    "                if bl1 in blth:\n",
    "                    blth[bl1][\"time\"] += 2\n",
    "                    blth[bl1][\"last\"] = time\n",
    "                else:\n",
    "                    blth[bl1] = {\"time\":2,\"last\":time}\n",
    "    blth2={}\n",
    "    for i in blth:\n",
    "        #print(i)\n",
    "        number=db.collection(u'Identify').document(u''+i).get().to_dict()['Number']\n",
    "        blth2[number]={\"time\":blth[i][\"time\"],\"last\":blth[i][\"last\"]}\n",
    "    \n",
    "    def update_prob(blth):\n",
    "        for i in blth:\n",
    "            prob=db.collection(u'Profile').document(u''+i).get().to_dict()['Probability']\n",
    "            if blth[i]['time']>15:\n",
    "                prob+=0.7\n",
    "            elif blth[i]['time']>5:\n",
    "                prob+=0.4\n",
    "            else:\n",
    "                prob+=0.2\n",
    "            prob=min(prob,1)\n",
    "            pth=db.collection(u'Profile').document(u''+i).update({u'Probability':prob })\n",
    "            data={\n",
    "                u'time spent':blth[i]['time'],\n",
    "                u'last':blth[i]['last']\n",
    "            }\n",
    "            \n",
    "            db.collection(u'Profile').document(u''+i).collection(u'contact').document().set(data, merge=True)\n",
    "    if mark:        \n",
    "        update_prob(blth2)\n",
    "    \n",
    "    ## to conver to list\n",
    "    loc2=[]\n",
    "    for i in loc:\n",
    "        loc2+=[{'geo':i,'last':loc[i]['last'],'time':loc[i]['time']}]\n",
    "    \n",
    "    return({\"devices\":blth2,\"location\":loc2})            \n",
    "    "
   ]
  },
  {
   "cell_type": "code",
   "execution_count": 31,
   "metadata": {
    "scrolled": false
   },
   "outputs": [
    {
     "name": "stdout",
     "output_type": "stream",
     "text": [
      "{'devices': {'+919831586263': {'last': '16/04/2020 at 20:07:31', 'time': 6}},\n",
      " 'location': [{'geo': b'28.389,77.055',\n",
      "               'last': '16/04/2020 at 20:07:31',\n",
      "               'time': 6}]}\n"
     ]
    }
   ],
   "source": [
    "data=getdata(phnumber=\"+919958498955\")\n",
    "pprint.pprint(data)"
   ]
  },
  {
   "cell_type": "code",
   "execution_count": null,
   "metadata": {},
   "outputs": [],
   "source": [
    "if mark:\n",
    "    for i in loc2:\n",
    "        locx=i['geo'].decode(\"utf-8\")\n",
    "        locx= list(map(float,locx.split(',')))\n",
    "        doc_ref=db.collection(u'HighRiskPlaces').document()\n",
    "        doc_ref.set({\n",
    "            u'location':firebase_admin.firestore.GeoPoint(locx[0], locx[1])\n",
    "            })"
   ]
  }
 ],
 "metadata": {
  "kernelspec": {
   "display_name": "Python 3",
   "language": "python",
   "name": "python3"
  },
  "language_info": {
   "codemirror_mode": {
    "name": "ipython",
    "version": 3
   },
   "file_extension": ".py",
   "mimetype": "text/x-python",
   "name": "python",
   "nbconvert_exporter": "python",
   "pygments_lexer": "ipython3",
   "version": "3.7.3"
  },
  "latex_envs": {
   "LaTeX_envs_menu_present": true,
   "autoclose": false,
   "autocomplete": true,
   "bibliofile": "biblio.bib",
   "cite_by": "apalike",
   "current_citInitial": 1,
   "eqLabelWithNumbers": true,
   "eqNumInitial": 1,
   "hotkeys": {
    "equation": "Ctrl-E",
    "itemize": "Ctrl-I"
   },
   "labels_anchors": false,
   "latex_user_defs": false,
   "report_style_numbering": false,
   "user_envs_cfg": false
  },
  "toc": {
   "base_numbering": 1,
   "nav_menu": {},
   "number_sections": true,
   "sideBar": true,
   "skip_h1_title": false,
   "title_cell": "Table of Contents",
   "title_sidebar": "Contents",
   "toc_cell": false,
   "toc_position": {},
   "toc_section_display": true,
   "toc_window_display": false
  },
  "varInspector": {
   "cols": {
    "lenName": 16,
    "lenType": 16,
    "lenVar": 40
   },
   "kernels_config": {
    "python": {
     "delete_cmd_postfix": "",
     "delete_cmd_prefix": "del ",
     "library": "var_list.py",
     "varRefreshCmd": "print(var_dic_list())"
    },
    "r": {
     "delete_cmd_postfix": ") ",
     "delete_cmd_prefix": "rm(",
     "library": "var_list.r",
     "varRefreshCmd": "cat(var_dic_list()) "
    }
   },
   "types_to_exclude": [
    "module",
    "function",
    "builtin_function_or_method",
    "instance",
    "_Feature"
   ],
   "window_display": false
  }
 },
 "nbformat": 4,
 "nbformat_minor": 2
}
